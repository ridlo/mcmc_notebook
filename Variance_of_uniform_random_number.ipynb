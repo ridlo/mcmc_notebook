{
 "cells": [
  {
   "cell_type": "markdown",
   "metadata": {},
   "source": [
    "### Variance of uniform random variable between $a$ and $b$\n",
    "\n",
    "We can calculate the expectation of $x$\n",
    "\n",
    "$$ E(x) = \\int_{-\\infty}^{+\\infty} x f(x) dx $$\n",
    "\n",
    "Variance of a random variable $X$ is the expected value of the squared deviation from the mean of $X$, $\\mu = E[x]$. The variance is also equivalent to the second cumulant of a probability distribution that generates $X$.\n",
    "\n",
    "$$ Var(x) = E((x - E(x))^2) = E(x^2) - (E(x))^2$$\n",
    "\n",
    "A uniform random variable between $a$ and $b$ has p.d.f\n",
    "\n",
    "$ f(x) = \\frac{1}{b-a}$\n",
    "\n",
    "with the expectation,\n",
    "\n",
    "$E(x) = \\int_{a}^{b} x \\frac{1}{b-a} dx$\n",
    "\n",
    "$E(x) = \\frac{1}{b-a} \\left[ \\frac{1}{2}{x^2} \\right]$\n",
    "\n",
    "$E(x) = \\frac{b^2 - a^2}{2(b - a)} = \\frac{b + a}{2} = \\mu$\n",
    "\n",
    "Expectation of $x^2$ is\n",
    "\n",
    "$E(x^2) = \\int_{-\\infty}^{+\\infty} x^2 f(x) dx $\n",
    "\n",
    "$E(x^2) = \\frac{1}{b-a} \\left[ \\frac{1}{3}{x^3} \\right]$ \n",
    "\n",
    "$E(x^2) = \\frac{b^3 - a^3}{3(b - a)} = \\frac{(b^2 + ab + a^2)(b-a)}{3(b-a)} = \\frac{b^2 + ab + a^2}{3}$\n",
    "\n",
    "$Var(x) = \\frac{b^2 + ab + a^2}{3} - \\left[\\frac{b + a}{2}\\right]^2$\n",
    "\n",
    "$Var(x) = \\frac{b^2 + ab + a^2}{3} - \\frac{b^2 + 2ab + a^2}{4}$\n",
    "\n",
    "$Var(x) = \\frac{4b^2 + 4ab + 4a^2 - 3b^2 - 6ab - 3a^2}{12}$\n",
    "\n",
    "$Var(x) = \\frac{1}{12} (b^2 - 2ab + a^2)$\n",
    "\n",
    "$Var(x) = \\frac{1}{12} (b - a)^2$"
   ]
  },
  {
   "cell_type": "code",
   "execution_count": 1,
   "metadata": {
    "collapsed": true
   },
   "outputs": [],
   "source": [
    "import numpy as np\n",
    "import matplotlib.pyplot as plt\n",
    "%matplotlib inline"
   ]
  },
  {
   "cell_type": "code",
   "execution_count": 2,
   "metadata": {
    "collapsed": false
   },
   "outputs": [
    {
     "name": "stdout",
     "output_type": "stream",
     "text": [
      "Mean(x) =  0.497456163149\n",
      "Computed Var(x) =  0.0830668741919\n",
      "Calculated Var(x) =  0.0833333333333\n",
      "Sigma =  0.288213244303\n"
     ]
    }
   ],
   "source": [
    "a = 0; b = 1\n",
    "x = np.random.random(10000)\n",
    "mu = np.mean(x)\n",
    "var = np.var(x)\n",
    "sigma = np.sqrt(var)\n",
    "print 'Mean(x) = ', mu\n",
    "print 'Computed Var(x) = ', var\n",
    "print 'Calculated Var(x) = ', (b-a)*(b-a)/12.\n",
    "print 'Sigma = ', sigma"
   ]
  },
  {
   "cell_type": "code",
   "execution_count": 3,
   "metadata": {
    "collapsed": false
   },
   "outputs": [
    {
     "data": {
      "image/png": "[encoded data removed]",
      "text/plain": [
       "<matplotlib.figure.Figure at 0x7f721b0988d0>"
      ]
     },
     "metadata": {},
     "output_type": "display_data"
    }
   ],
   "source": [
    "plt.hist(x, bins=100, normed=1, histtype='stepfilled', color='red', alpha=0.5);"
   ]
  },
  {
   "cell_type": "code",
   "execution_count": null,
   "metadata": {
    "collapsed": true
   },
   "outputs": [],
   "source": []
  }
 ],
 "metadata": {
  "kernelspec": {
   "display_name": "Python 2",
   "language": "python",
   "name": "python2"
  },
  "language_info": {
   "codemirror_mode": {
    "name": "ipython",
    "version": 2
   },
   "file_extension": ".py",
   "mimetype": "text/x-python",
   "name": "python",
   "nbconvert_exporter": "python",
   "pygments_lexer": "ipython2",
   "version": "2.7.11"
  }
 },
 "nbformat": 4,
 "nbformat_minor": 0
}
