{
 "cells": [
  {
   "cell_type": "code",
   "execution_count": 1,
   "metadata": {},
   "outputs": [],
   "source": [
    "import numpy as np\n",
    "import matplotlib.pyplot as plt\n",
    "%matplotlib inline\n",
    "\n",
    "def spherical_to_cartesian(r, phi, theta):\n",
    "    pass\n",
    "\n",
    "def plot_f():\n",
    "    a = 1.0\n",
    "    x = np.linspace(0, 5.0, 1000)\n",
    "    f = (3/(4*np.pi*a*a*a)) * np.power((1 + x*x/(a*a)), -5./2)\n",
    "    plt.plot(x, f)\n",
    "    plt.xlabel(r'$r$', fontsize=18)\n",
    "    plt.ylabel(r'$\\rho_{P}(r)$', fontsize=18)"
   ]
  },
  {
   "cell_type": "code",
   "execution_count": 2,
   "metadata": {},
   "outputs": [
    {
     "data": {
      "image/png": "[encoded data removed]",
      "text/plain": [
       "<matplotlib.figure.Figure at 0x7efd17498a50>"
      ]
     },
     "metadata": {},
     "output_type": "display_data"
    }
   ],
   "source": [
    "plot_f()"
   ]
  },
  {
   "cell_type": "code",
   "execution_count": 3,
   "metadata": {
    "collapsed": true
   },
   "outputs": [],
   "source": [
    "def plot_m():\n",
    "    a = 1.0\n",
    "    x = np.linspace(0, 10.0, 1000)\n",
    "    m = (x*x*x) / np.power((x*x + a*a), 3.0/2)\n",
    "    plt.plot(x, m)\n",
    "    plt.xlabel(r'$r$', fontsize=18)\n",
    "    plt.ylabel(r'$m_{P}(r)$', fontsize=18) "
   ]
  },
  {
   "cell_type": "code",
   "execution_count": 4,
   "metadata": {},
   "outputs": [
    {
     "data": {
      "image/png": "[encoded data removed]",
      "text/plain": [
       "<matplotlib.figure.Figure at 0x7efd0ffaf0d0>"
      ]
     },
     "metadata": {},
     "output_type": "display_data"
    }
   ],
   "source": [
    "plot_m()"
   ]
  },
  {
   "cell_type": "markdown",
   "metadata": {},
   "source": [
    "Plummer density profile\n",
    "\n",
    "$\\rho_{P}(r) = \\left( \\frac{3M}{4\\pi a^3} \\right) \\left( 1 + \\left(\\frac{r}{a}\\right)^2 \\right)^{-5/2} $"
   ]
  },
  {
   "cell_type": "markdown",
   "metadata": {},
   "source": [
    "CDF\n",
    "\n",
    "$m(r) = \\int_{0}^{r} 4 \\pi r^2 \\rho(r) dr$\n",
    "\n",
    "with $M = 1$\n",
    "\n",
    "$m(r) = \\int_{0}^{r} \\frac{3 r^2}{a^3} \\left( 1 + \\left(\\frac{r}{a}\\right)^2 \\right)^{-5/2} dr$"
   ]
  },
  {
   "cell_type": "code",
   "execution_count": null,
   "metadata": {
    "collapsed": true
   },
   "outputs": [],
   "source": []
  }
 ],
 "metadata": {
  "kernelspec": {
   "display_name": "Python 2",
   "language": "python",
   "name": "python2"
  },
  "language_info": {
   "codemirror_mode": {
    "name": "ipython",
    "version": 2
   },
   "file_extension": ".py",
   "mimetype": "text/x-python",
   "name": "python",
   "nbconvert_exporter": "python",
   "pygments_lexer": "ipython2",
   "version": "2.7.14"
  }
 },
 "nbformat": 4,
 "nbformat_minor": 1
}
