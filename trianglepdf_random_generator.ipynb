{
 "cells": [
  {
   "cell_type": "code",
   "execution_count": 1,
   "metadata": {
    "collapsed": true
   },
   "outputs": [],
   "source": [
    "import numpy as np\n",
    "import matplotlib.pyplot as plt\n",
    "from scipy.integrate import quad\n",
    "\n",
    "%matplotlib inline"
   ]
  },
  {
   "cell_type": "code",
   "execution_count": 2,
   "metadata": {
    "collapsed": true
   },
   "outputs": [],
   "source": [
    "def pdfpropos(x, xmin, xmax, xhigh, yhigh):\n",
    "    m1 = yhigh/(xhigh - xmin)\n",
    "    c1 = -xmin*m1\n",
    "    m2 = -yhigh/(xmax - xhigh)\n",
    "    c2 = -xmax*m2\n",
    "    y = np.where(x < xhigh, m1*x + c1, m2*x + c2)\n",
    "    return y"
   ]
  },
  {
   "cell_type": "code",
   "execution_count": 3,
   "metadata": {
    "collapsed": false
   },
   "outputs": [],
   "source": [
    "xmin, xmax = -5, 5\n",
    "xhigh, yhigh = -1.75233675234, 0.382090558496\n",
    "nsamples = 10000\n",
    "\n",
    "xsample = xmin + (xmax - xmin)*np.random.random(nsamples)\n",
    "ysample = pdfpropos(xsample, xmin, xmax, xhigh, yhigh)*np.random.random(nsamples) "
   ]
  },
  {
   "cell_type": "markdown",
   "metadata": {},
   "source": [
    "p.d.f\n",
    "\n",
    "$f(x|m, c) = mx + c$\n",
    "\n",
    "c.d.f\n",
    "\n",
    "$F(x) = \\int_{0}^{x'} (mx + c) dx$\n",
    "\n",
    "$F(x) = \\left[ \\frac{1}{2}mx^2 + cx \\right]_{0}^{x'}$\n",
    "\n",
    "$F(x) = \\frac{1}{2}mx^2 + cx $\n",
    "\n",
    "\n",
    "$F^{-1}(y | m,c) = \\pm \\sqrt{\\frac{2y}{m} + \\frac{c^2}{m^2}} - \\frac{c}{m}$ "
   ]
  },
  {
   "cell_type": "code",
   "execution_count": 47,
   "metadata": {
    "collapsed": false
   },
   "outputs": [],
   "source": [
    "y = np.random.random(1000000)\n",
    "m = 1\n",
    "c = 0\n",
    "p = c/m\n",
    "x = np.sqrt(2*y/m + p*p) - p\n",
    "x = x/np.sqrt(2)"
   ]
  },
  {
   "cell_type": "code",
   "execution_count": 54,
   "metadata": {
    "collapsed": false
   },
   "outputs": [
    {
     "data": {
      "image/png": "[encoded data removed]",
      "text/plain": [
       "<matplotlib.figure.Figure at 0x7f3851c1ac10>"
      ]
     },
     "metadata": {},
     "output_type": "display_data"
    }
   ],
   "source": [
    "a = -5\n",
    "b = 5\n",
    "x1 = a + (b-a)*x\n",
    "x2 = 6 + -x\n",
    "\n",
    "plt.hist(x1, bins=50, normed=True, histtype=\"stepfilled\", color=\"red\", alpha=0.5, linewidth=0);\n",
    "plt.hist(x2, bins=50, normed=True, histtype=\"stepfilled\", color=\"red\", alpha=0.5, linewidth=0);"
   ]
  },
  {
   "cell_type": "code",
   "execution_count": 69,
   "metadata": {
    "collapsed": false
   },
   "outputs": [
    {
     "data": {
      "image/png": "[encoded data removed]",
      "text/plain": [
       "<matplotlib.figure.Figure at 0x7f38518afa10>"
      ]
     },
     "metadata": {},
     "output_type": "display_data"
    }
   ],
   "source": [
    "y = np.random.random(1000000)\n",
    "x = np.sqrt(y)\n",
    "\n",
    "plt.hist(x, bins=50, normed=True, histtype=\"stepfilled\", color=\"red\", alpha=0.5, linewidth=0);"
   ]
  },
  {
   "cell_type": "code",
   "execution_count": 63,
   "metadata": {
    "collapsed": true
   },
   "outputs": [],
   "source": [
    "def func(y, m, c):\n",
    "    p = c/m\n",
    "    x = np.sqrt(2*y/m + p*p) - p\n",
    "    return x/np.sqrt(2)"
   ]
  },
  {
   "cell_type": "code",
   "execution_count": 64,
   "metadata": {
    "collapsed": true
   },
   "outputs": [],
   "source": [
    "y = np.linspace(0, 25, 100)\n",
    "x = func(y, 1, 0)"
   ]
  },
  {
   "cell_type": "code",
   "execution_count": 65,
   "metadata": {
    "collapsed": false
   },
   "outputs": [
    {
     "data": {
      "text/plain": [
       "[<matplotlib.lines.Line2D at 0x7f3851976250>]"
      ]
     },
     "execution_count": 65,
     "metadata": {},
     "output_type": "execute_result"
    },
    {
     "data": {
      "image/png": "[encoded data removed]",
      "text/plain": [
       "<matplotlib.figure.Figure at 0x7f385182f310>"
      ]
     },
     "metadata": {},
     "output_type": "display_data"
    }
   ],
   "source": [
    "plt.plot(x, y)"
   ]
  },
  {
   "cell_type": "code",
   "execution_count": 9,
   "metadata": {
    "collapsed": true
   },
   "outputs": [],
   "source": [
    "xmin, xmax = -5, 5\n",
    "xhigh, yhigh = -1.75233675234, 0.382090558496\n",
    "nsamp = 1000000"
   ]
  },
  {
   "cell_type": "code",
   "execution_count": 10,
   "metadata": {
    "collapsed": false
   },
   "outputs": [
    {
     "data": {
      "image/png": "[encoded data removed]",
      "text/plain": [
       "<matplotlib.figure.Figure at 0x7f384f649f10>"
      ]
     },
     "metadata": {},
     "output_type": "display_data"
    }
   ],
   "source": [
    "u = np.random.random(nsamp)\n",
    "v = np.random.random(nsamp)\n",
    "x = -2.5 + 5*u\n",
    "y = -2.5 + 5*v\n",
    "z = x + y\n",
    "\n",
    "plt.hist(z, normed=1, bins=50, histtype=\"stepfilled\", linewidth=0, alpha=0.5);"
   ]
  },
  {
   "cell_type": "code",
   "execution_count": null,
   "metadata": {
    "collapsed": true
   },
   "outputs": [],
   "source": []
  }
 ],
 "metadata": {
  "kernelspec": {
   "display_name": "Python 2",
   "language": "python",
   "name": "python2"
  },
  "language_info": {
   "codemirror_mode": {
    "name": "ipython",
    "version": 2
   },
   "file_extension": ".py",
   "mimetype": "text/x-python",
   "name": "python",
   "nbconvert_exporter": "python",
   "pygments_lexer": "ipython2",
   "version": "2.7.11"
  }
 },
 "nbformat": 4,
 "nbformat_minor": 0
}
