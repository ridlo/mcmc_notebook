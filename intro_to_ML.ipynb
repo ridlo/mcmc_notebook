{
 "cells": [
  {
   "cell_type": "code",
   "execution_count": 1,
   "metadata": {},
   "outputs": [],
   "source": [
    "# Basic modules\n",
    "import pandas as pd\n",
    "import itertools\n",
    "import numpy as np\n",
    "from colorama import Fore, Back, Style\n",
    "\n",
    "# Sklearn tools\n",
    "from sklearn import datasets\n",
    "from sklearn.model_selection import train_test_split\n",
    "from sklearn import metrics\n",
    "\n",
    "# Import classifiers\n",
    "from sklearn.ensemble import RandomForestClassifier, ExtraTreesClassifier\n",
    "from sklearn.neural_network import MLPClassifier\n",
    "from sklearn.naive_bayes import GaussianNB\n",
    "from sklearn import tree\n",
    "\n",
    "# Plotting\n",
    "import matplotlib.pyplot as plt\n",
    "import seaborn as sns\n",
    "%matplotlib inline"
   ]
  },
  {
   "cell_type": "code",
   "execution_count": 2,
   "metadata": {},
   "outputs": [],
   "source": [
    "# Function to visualise confusion matrix\n",
    "def make_confusion_matrix(cnf_matrix, clf, model_name):\n",
    "\n",
    "    fig = plt.figure()\n",
    "    # Normalise matrix\n",
    "    cnf_matrix = np.asarray(cnf_matrix)\n",
    "    cnf_matrix = [[float(a) / sum(row) for a in row] for row in cnf_matrix]\n",
    "\n",
    "    cnf_matrix = np.asarray(cnf_matrix)\n",
    "    im = plt.imshow(cnf_matrix, interpolation='nearest', cmap='Blues')\n",
    "\n",
    "    # For manipulation of colorbar\n",
    "    cb = plt.colorbar(im, fraction=0.046, pad=0.04)\n",
    "    cb.ax.set_yticklabels(cb.ax.get_yticklabels())\n",
    "\n",
    "    # Tick manipulation\n",
    "    tick_marks = np.arange(len(clf.classes_))\n",
    "    plt.xticks(tick_marks, clf.classes_, rotation=45, fontsize=8)\n",
    "    plt.yticks(tick_marks, clf.classes_, fontsize=8)\n",
    "    \n",
    "    # Adding the text value of each cell\n",
    "    fmt = '.2f'\n",
    "    thresh = cnf_matrix.max() / 2.\n",
    "    for i, j in itertools.product(range(cnf_matrix.shape[0]), \n",
    "                                  range(cnf_matrix.shape[1])):\n",
    "        plt.text(j, i, (format(cnf_matrix[i, j], fmt)),\n",
    "                 horizontalalignment=\"center\",\n",
    "                 color=\"white\" if cnf_matrix[i, j] > thresh \n",
    "                 else \"black\", fontsize=13)\n",
    "\n",
    "    # Labels\n",
    "    plt.ylabel('True label', fontsize=10)\n",
    "    plt.xlabel('Predicted label', fontsize=10)\n",
    "    \n",
    "    # Title\n",
    "    plt.title('{} model'.format(model_name))"
   ]
  },
  {
   "cell_type": "code",
   "execution_count": 3,
   "metadata": {},
   "outputs": [],
   "source": [
    "# Load dataset\n",
    "iris = datasets.load_iris()"
   ]
  },
  {
   "cell_type": "code",
   "execution_count": 4,
   "metadata": {},
   "outputs": [
    {
     "name": "stdout",
     "output_type": "stream",
     "text": [
      "['setosa' 'versicolor' 'virginica']\n"
     ]
    }
   ],
   "source": [
    "# Print the label species(setosa, versicolor,virginica)\n",
    "print(iris.target_names)"
   ]
  },
  {
   "cell_type": "code",
   "execution_count": 5,
   "metadata": {},
   "outputs": [
    {
     "name": "stdout",
     "output_type": "stream",
     "text": [
      "['sepal length (cm)', 'sepal width (cm)', 'petal length (cm)', 'petal width (cm)']\n"
     ]
    }
   ],
   "source": [
    "# Print the names of the four features\n",
    "print(iris.feature_names)"
   ]
  },
  {
   "cell_type": "code",
   "execution_count": 6,
   "metadata": {},
   "outputs": [
    {
     "name": "stdout",
     "output_type": "stream",
     "text": [
      "[[5.1 3.5 1.4 0.2]\n",
      " [4.9 3.  1.4 0.2]\n",
      " [4.7 3.2 1.3 0.2]\n",
      " [4.6 3.1 1.5 0.2]\n",
      " [5.  3.6 1.4 0.2]]\n"
     ]
    }
   ],
   "source": [
    "# Print the iris data (top 5 records)\n",
    "print(iris.data[0:5])"
   ]
  },
  {
   "cell_type": "code",
   "execution_count": 7,
   "metadata": {},
   "outputs": [
    {
     "name": "stdout",
     "output_type": "stream",
     "text": [
      "[0 0 0 0 0 0 0 0 0 0 0 0 0 0 0 0 0 0 0 0 0 0 0 0 0 0 0 0 0 0 0 0 0 0 0 0 0\n",
      " 0 0 0 0 0 0 0 0 0 0 0 0 0 1 1 1 1 1 1 1 1 1 1 1 1 1 1 1 1 1 1 1 1 1 1 1 1\n",
      " 1 1 1 1 1 1 1 1 1 1 1 1 1 1 1 1 1 1 1 1 1 1 1 1 1 1]\n"
     ]
    }
   ],
   "source": [
    "# Print the iris labels (0:setosa, 1:versicolor, 2:virginica)\n",
    "label_dict = {0:'setosa', 1:'versicolor', 2:'virginica'}\n",
    "print(iris.target[0:100])"
   ]
  },
  {
   "cell_type": "code",
   "execution_count": 8,
   "metadata": {},
   "outputs": [
    {
     "data": {
      "text/html": [
       "<div>\n",
       "<style scoped>\n",
       "    .dataframe tbody tr th:only-of-type {\n",
       "        vertical-align: middle;\n",
       "    }\n",
       "\n",
       "    .dataframe tbody tr th {\n",
       "        vertical-align: top;\n",
       "    }\n",
       "\n",
       "    .dataframe thead th {\n",
       "        text-align: right;\n",
       "    }\n",
       "</style>\n",
       "<table border=\"1\" class=\"dataframe\">\n",
       "  <thead>\n",
       "    <tr style=\"text-align: right;\">\n",
       "      <th></th>\n",
       "      <th>sepal length</th>\n",
       "      <th>sepal width</th>\n",
       "      <th>petal length</th>\n",
       "      <th>petal width</th>\n",
       "      <th>species</th>\n",
       "    </tr>\n",
       "  </thead>\n",
       "  <tbody>\n",
       "    <tr>\n",
       "      <th>0</th>\n",
       "      <td>5.1</td>\n",
       "      <td>3.5</td>\n",
       "      <td>1.4</td>\n",
       "      <td>0.2</td>\n",
       "      <td>0</td>\n",
       "    </tr>\n",
       "    <tr>\n",
       "      <th>1</th>\n",
       "      <td>4.9</td>\n",
       "      <td>3.0</td>\n",
       "      <td>1.4</td>\n",
       "      <td>0.2</td>\n",
       "      <td>0</td>\n",
       "    </tr>\n",
       "    <tr>\n",
       "      <th>2</th>\n",
       "      <td>4.7</td>\n",
       "      <td>3.2</td>\n",
       "      <td>1.3</td>\n",
       "      <td>0.2</td>\n",
       "      <td>0</td>\n",
       "    </tr>\n",
       "    <tr>\n",
       "      <th>3</th>\n",
       "      <td>4.6</td>\n",
       "      <td>3.1</td>\n",
       "      <td>1.5</td>\n",
       "      <td>0.2</td>\n",
       "      <td>0</td>\n",
       "    </tr>\n",
       "    <tr>\n",
       "      <th>4</th>\n",
       "      <td>5.0</td>\n",
       "      <td>3.6</td>\n",
       "      <td>1.4</td>\n",
       "      <td>0.2</td>\n",
       "      <td>0</td>\n",
       "    </tr>\n",
       "  </tbody>\n",
       "</table>\n",
       "</div>"
      ],
      "text/plain": [
       "   sepal length  sepal width  petal length  petal width  species\n",
       "0           5.1          3.5           1.4          0.2        0\n",
       "1           4.9          3.0           1.4          0.2        0\n",
       "2           4.7          3.2           1.3          0.2        0\n",
       "3           4.6          3.1           1.5          0.2        0\n",
       "4           5.0          3.6           1.4          0.2        0"
      ]
     },
     "execution_count": 8,
     "metadata": {},
     "output_type": "execute_result"
    }
   ],
   "source": [
    "# Creating a DataFrame of given iris dataset.\n",
    "data=pd.DataFrame({\n",
    "    'sepal length':iris.data[:,0],\n",
    "    'sepal width':iris.data[:,1],\n",
    "    'petal length':iris.data[:,2],\n",
    "    'petal width':iris.data[:,3],\n",
    "    'species':iris.target\n",
    "})\n",
    "data.head()"
   ]
  },
  {
   "cell_type": "code",
   "execution_count": 9,
   "metadata": {},
   "outputs": [],
   "source": [
    "X=data[['sepal length', 'sepal width', 'petal length', 'petal width']]  # Features\n",
    "y=[label_dict[c] for c in data['species'].tolist()]  # Labels\n",
    "\n",
    "# Split dataset into training set and test set\n",
    "X_train, X_test, y_train, y_test = train_test_split(X, y, test_size=0.3) # 70% training and 30% test"
   ]
  },
  {
   "cell_type": "code",
   "execution_count": 10,
   "metadata": {},
   "outputs": [],
   "source": [
    "# Create a Gaussian Classifier\n",
    "clf=RandomForestClassifier(n_estimators=500)\n",
    "\n",
    "# Train the model using the training sets y_pred=clf.predict(X_test)\n",
    "clf.fit(X_train,y_train)\n",
    "\n",
    "# Predict on the test set, for both classes and probabilities\n",
    "y_pred=clf.predict(X_test)\n",
    "y_pred_proba=clf.predict_proba(X_test)"
   ]
  },
  {
   "cell_type": "code",
   "execution_count": 11,
   "metadata": {},
   "outputs": [
    {
     "name": "stdout",
     "output_type": "stream",
     "text": [
      "Datum 1, true label: versicolor\n",
      "\n",
      "0.00: setosa\n",
      "1.00: versicolor\n",
      "0.00: virginica\n",
      "\n",
      "************\n",
      "Datum 2, true label: versicolor\n",
      "\n",
      "0.00: setosa\n",
      "0.99: versicolor\n",
      "0.00: virginica\n",
      "\n",
      "************\n",
      "Datum 3, true label: virginica\n",
      "\n",
      "0.00: setosa\n",
      "0.00: versicolor\n",
      "1.00: virginica\n",
      "\n",
      "************\n",
      "Datum 4, true label: virginica\n",
      "\n",
      "0.00: setosa\n",
      "0.01: versicolor\n",
      "0.99: virginica\n",
      "\n",
      "************\n",
      "Datum 5, true label: virginica\n",
      "\n",
      "0.00: setosa\n",
      "0.08: versicolor\n",
      "0.92: virginica\n",
      "\n",
      "************\n",
      "Datum 6, true label: setosa\n",
      "\n",
      "1.00: setosa\n",
      "0.00: versicolor\n",
      "0.00: virginica\n",
      "\n",
      "************\n",
      "Datum 7, true label: setosa\n",
      "\n",
      "1.00: setosa\n",
      "0.00: versicolor\n",
      "0.00: virginica\n",
      "\n",
      "************\n",
      "Datum 8, true label: virginica\n",
      "\n",
      "0.00: setosa\n",
      "0.04: versicolor\n",
      "0.96: virginica\n",
      "\n",
      "************\n",
      "Datum 9, true label: virginica\n",
      "\n",
      "0.00: setosa\n",
      "0.24: versicolor\n",
      "0.76: virginica\n",
      "\n",
      "************\n",
      "Datum 10, true label: virginica\n",
      "\n",
      "0.00: setosa\n",
      "0.00: versicolor\n",
      "1.00: virginica\n",
      "\n",
      "************\n",
      "Datum 11, true label: virginica\n",
      "\n",
      "0.00: setosa\n",
      "0.06: versicolor\n",
      "0.94: virginica\n",
      "\n",
      "************\n",
      "Datum 12, true label: versicolor\n",
      "\n",
      "0.00: setosa\n",
      "1.00: versicolor\n",
      "0.00: virginica\n",
      "\n",
      "************\n",
      "Datum 13, true label: setosa\n",
      "\n",
      "1.00: setosa\n",
      "0.00: versicolor\n",
      "0.00: virginica\n",
      "\n",
      "************\n",
      "Datum 14, true label: virginica\n",
      "\n",
      "\u001b[31m0.01: setosa\u001b[0m\n",
      "\u001b[31m0.91: versicolor\u001b[0m\n",
      "\u001b[31m0.09: virginica\u001b[0m\n",
      "\n",
      "************\n",
      "Datum 15, true label: versicolor\n",
      "\n",
      "0.00: setosa\n",
      "1.00: versicolor\n",
      "0.00: virginica\n",
      "\n",
      "************\n",
      "Datum 16, true label: versicolor\n",
      "\n",
      "0.00: setosa\n",
      "0.87: versicolor\n",
      "0.13: virginica\n",
      "\n",
      "************\n",
      "Datum 17, true label: virginica\n",
      "\n",
      "0.00: setosa\n",
      "0.00: versicolor\n",
      "1.00: virginica\n",
      "\n",
      "************\n",
      "Datum 18, true label: versicolor\n",
      "\n",
      "0.00: setosa\n",
      "1.00: versicolor\n",
      "0.00: virginica\n",
      "\n",
      "************\n",
      "Datum 19, true label: virginica\n",
      "\n",
      "0.00: setosa\n",
      "0.00: versicolor\n",
      "1.00: virginica\n",
      "\n",
      "************\n",
      "Datum 20, true label: setosa\n",
      "\n",
      "1.00: setosa\n",
      "0.00: versicolor\n",
      "0.00: virginica\n",
      "\n",
      "************\n",
      "Datum 21, true label: setosa\n",
      "\n",
      "1.00: setosa\n",
      "0.00: versicolor\n",
      "0.00: virginica\n",
      "\n",
      "************\n",
      "Datum 22, true label: versicolor\n",
      "\n",
      "0.00: setosa\n",
      "1.00: versicolor\n",
      "0.00: virginica\n",
      "\n",
      "************\n",
      "Datum 23, true label: setosa\n",
      "\n",
      "1.00: setosa\n",
      "0.00: versicolor\n",
      "0.00: virginica\n",
      "\n",
      "************\n",
      "Datum 24, true label: setosa\n",
      "\n",
      "0.99: setosa\n",
      "0.01: versicolor\n",
      "0.00: virginica\n",
      "\n",
      "************\n",
      "Datum 25, true label: setosa\n",
      "\n",
      "1.00: setosa\n",
      "0.00: versicolor\n",
      "0.00: virginica\n",
      "\n",
      "************\n",
      "Datum 26, true label: setosa\n",
      "\n",
      "0.99: setosa\n",
      "0.01: versicolor\n",
      "0.00: virginica\n",
      "\n",
      "************\n",
      "Datum 27, true label: versicolor\n",
      "\n",
      "0.00: setosa\n",
      "0.99: versicolor\n",
      "0.01: virginica\n",
      "\n",
      "************\n",
      "Datum 28, true label: versicolor\n",
      "\n",
      "0.00: setosa\n",
      "1.00: versicolor\n",
      "0.00: virginica\n",
      "\n",
      "************\n",
      "Datum 29, true label: versicolor\n",
      "\n",
      "0.01: setosa\n",
      "0.96: versicolor\n",
      "0.03: virginica\n",
      "\n",
      "************\n",
      "Datum 30, true label: versicolor\n",
      "\n",
      "0.01: setosa\n",
      "0.92: versicolor\n",
      "0.06: virginica\n",
      "\n",
      "************\n",
      "Datum 31, true label: virginica\n",
      "\n",
      "0.00: setosa\n",
      "0.18: versicolor\n",
      "0.82: virginica\n",
      "\n",
      "************\n",
      "Datum 32, true label: virginica\n",
      "\n",
      "0.00: setosa\n",
      "0.00: versicolor\n",
      "1.00: virginica\n",
      "\n",
      "************\n",
      "Datum 33, true label: versicolor\n",
      "\n",
      "0.00: setosa\n",
      "1.00: versicolor\n",
      "0.00: virginica\n",
      "\n",
      "************\n",
      "Datum 34, true label: versicolor\n",
      "\n",
      "0.00: setosa\n",
      "1.00: versicolor\n",
      "0.00: virginica\n",
      "\n",
      "************\n",
      "Datum 35, true label: versicolor\n",
      "\n",
      "0.01: setosa\n",
      "0.99: versicolor\n",
      "0.00: virginica\n",
      "\n",
      "************\n",
      "Datum 36, true label: virginica\n",
      "\n",
      "0.00: setosa\n",
      "0.00: versicolor\n",
      "1.00: virginica\n",
      "\n",
      "************\n",
      "Datum 37, true label: setosa\n",
      "\n",
      "1.00: setosa\n",
      "0.00: versicolor\n",
      "0.00: virginica\n",
      "\n",
      "************\n",
      "Datum 38, true label: setosa\n",
      "\n",
      "1.00: setosa\n",
      "0.00: versicolor\n",
      "0.00: virginica\n",
      "\n",
      "************\n",
      "Datum 39, true label: versicolor\n",
      "\n",
      "0.00: setosa\n",
      "0.99: versicolor\n",
      "0.00: virginica\n",
      "\n",
      "************\n",
      "Datum 40, true label: versicolor\n",
      "\n",
      "0.00: setosa\n",
      "0.91: versicolor\n",
      "0.09: virginica\n",
      "\n",
      "************\n",
      "Datum 41, true label: virginica\n",
      "\n",
      "0.00: setosa\n",
      "0.02: versicolor\n",
      "0.98: virginica\n",
      "\n",
      "************\n",
      "Datum 42, true label: setosa\n",
      "\n",
      "1.00: setosa\n",
      "0.00: versicolor\n",
      "0.00: virginica\n",
      "\n",
      "************\n",
      "Datum 43, true label: virginica\n",
      "\n",
      "0.00: setosa\n",
      "0.03: versicolor\n",
      "0.97: virginica\n",
      "\n",
      "************\n",
      "Datum 44, true label: setosa\n",
      "\n",
      "1.00: setosa\n",
      "0.00: versicolor\n",
      "0.00: virginica\n",
      "\n",
      "************\n",
      "Datum 45, true label: virginica\n",
      "\n",
      "0.00: setosa\n",
      "0.00: versicolor\n",
      "1.00: virginica\n",
      "\n",
      "************\n"
     ]
    }
   ],
   "source": [
    "# Show the comparison of true to predicted labels\n",
    "N = 1\n",
    "for y_t, y_p, y_pp in zip(y_test, y_pred, y_pred_proba):\n",
    "    y_pp_dict = dict(zip(clf.classes_, y_pp))\n",
    "    print('Datum {}, true label: {}\\n'.format(N, y_t))\n",
    "    for c, v in y_pp_dict.items():\n",
    "        if y_p != y_t:\n",
    "            print(Fore.RED + '{:.2f}: {}'.format(v, c) + Style.RESET_ALL)\n",
    "        else:\n",
    "            print('{:.2f}: {}'.format(v, c))\n",
    "    print('\\n************')\n",
    "    N += 1"
   ]
  },
  {
   "cell_type": "code",
   "execution_count": 12,
   "metadata": {},
   "outputs": [
    {
     "name": "stdout",
     "output_type": "stream",
     "text": [
      "Accuracy: 0.98\n",
      "Precision: 0.98\n",
      "Recall: 0.98\n",
      "F1 score: 0.98\n"
     ]
    }
   ],
   "source": [
    "# Model evaluation\n",
    "# get precision, recall, fscore and support\n",
    "prec1, rec1, f_score1, sup1 = metrics.precision_recall_fscore_support(y_test, y_pred,\n",
    "                                                          average='macro')\n",
    "acc1 = metrics.accuracy_score(y_test, y_pred)\n",
    "\n",
    "# Print values\n",
    "print(\"Accuracy: {:.2f}\".format(acc1))\n",
    "print(\"Precision: {:.2f}\".format(prec1))\n",
    "print(\"Recall: {:.2f}\".format(rec1))\n",
    "print(\"F1 score: {:.2f}\".format(f_score1))"
   ]
  },
  {
   "cell_type": "code",
   "execution_count": 13,
   "metadata": {},
   "outputs": [
    {
     "name": "stdout",
     "output_type": "stream",
     "text": [
      "['versicolor' 'versicolor']\n"
     ]
    }
   ],
   "source": [
    "# Predict new entry\n",
    "new_pred = clf.predict([[3, 5, 4, 2], [3, 5, 4, 2]])\n",
    "print(new_pred)\n",
    "# print('\\nOur new datum is predicted as {}\\n'.format(new_pred))"
   ]
  },
  {
   "cell_type": "code",
   "execution_count": 14,
   "metadata": {},
   "outputs": [
    {
     "data": {
      "text/plain": [
       "petal length (cm)    0.444668\n",
       "petal width (cm)     0.414112\n",
       "sepal length (cm)    0.110633\n",
       "sepal width (cm)     0.030588\n",
       "dtype: float64"
      ]
     },
     "execution_count": 14,
     "metadata": {},
     "output_type": "execute_result"
    }
   ],
   "source": [
    "feature_imp = pd.Series(clf.feature_importances_, \n",
    "                        index=iris.feature_names).sort_values(ascending=False)\n",
    "feature_imp"
   ]
  },
  {
   "cell_type": "code",
   "execution_count": 15,
   "metadata": {},
   "outputs": [
    {
     "data": {
      "image/png": "[encoded data removed]",
      "text/plain": [
       "<Figure size 432x288 with 1 Axes>"
      ]
     },
     "metadata": {},
     "output_type": "display_data"
    }
   ],
   "source": [
    "# Creating a bar plot\n",
    "sns.barplot(x=feature_imp, y=feature_imp.index)\n",
    "# Add labels to your graph\n",
    "plt.xlabel('Feature Importance Score')\n",
    "plt.ylabel('Features')\n",
    "plt.title(\"Visualizing Important Features\")\n",
    "plt.show()"
   ]
  },
  {
   "cell_type": "code",
   "execution_count": 16,
   "metadata": {},
   "outputs": [
    {
     "data": {
      "text/plain": [
       "array([[13,  0,  0],\n",
       "       [ 0, 16,  0],\n",
       "       [ 0,  1, 15]])"
      ]
     },
     "execution_count": 16,
     "metadata": {},
     "output_type": "execute_result"
    }
   ],
   "source": [
    "cnf_matrix = metrics.confusion_matrix(y_test, y_pred)\n",
    "cnf_matrix"
   ]
  },
  {
   "cell_type": "code",
   "execution_count": 17,
   "metadata": {},
   "outputs": [
    {
     "data": {
      "image/png": "[encoded data removed]",
      "text/plain": [
       "<Figure size 432x288 with 2 Axes>"
      ]
     },
     "metadata": {},
     "output_type": "display_data"
    }
   ],
   "source": [
    "make_confusion_matrix(cnf_matrix, clf, 'RF')"
   ]
  },
  {
   "cell_type": "code",
   "execution_count": 18,
   "metadata": {},
   "outputs": [
    {
     "data": {
      "text/plain": [
       "MLPClassifier(activation='relu', alpha=0.0001, batch_size='auto', beta_1=0.9,\n",
       "       beta_2=0.999, early_stopping=False, epsilon=1e-08,\n",
       "       hidden_layer_sizes=(100,), learning_rate='constant',\n",
       "       learning_rate_init=0.001, max_iter=20000, momentum=0.9,\n",
       "       nesterovs_momentum=True, power_t=0.5, random_state=None,\n",
       "       shuffle=True, solver='adam', tol=0.0001, validation_fraction=0.1,\n",
       "       verbose=False, warm_start=False)"
      ]
     },
     "execution_count": 18,
     "metadata": {},
     "output_type": "execute_result"
    }
   ],
   "source": [
    "# Just to show how easy it is to switch classifiers...\n",
    "# And because everyone loves Neural Networks...\n",
    "# Let's use a neural network\n",
    "clf2 = MLPClassifier(max_iter=20000)\n",
    "clf2.fit(X_train, y_train)"
   ]
  },
  {
   "cell_type": "code",
   "execution_count": 19,
   "metadata": {},
   "outputs": [
    {
     "name": "stdout",
     "output_type": "stream",
     "text": [
      "[[13  0  0]\n",
      " [ 0 16  0]\n",
      " [ 0  0 16]]\n"
     ]
    }
   ],
   "source": [
    "y_pred2=clf2.predict(X_test)\n",
    "cnf_matrix2 = metrics.confusion_matrix(y_test, y_pred2)\n",
    "print(cnf_matrix2)"
   ]
  },
  {
   "cell_type": "code",
   "execution_count": 20,
   "metadata": {},
   "outputs": [
    {
     "data": {
      "image/png": "[encoded data removed]",
      "text/plain": [
       "<Figure size 432x288 with 2 Axes>"
      ]
     },
     "metadata": {},
     "output_type": "display_data"
    }
   ],
   "source": [
    "make_confusion_matrix(cnf_matrix2, clf2, 'NN')"
   ]
  },
  {
   "cell_type": "code",
   "execution_count": 21,
   "metadata": {},
   "outputs": [
    {
     "name": "stdout",
     "output_type": "stream",
     "text": [
      "Accuracy: 1.00\n",
      "Precision: 1.00\n",
      "Recall: 1.00\n",
      "F1 score: 1.00\n"
     ]
    }
   ],
   "source": [
    "# Model evaluation\n",
    "# get precision, recall, fscore and support\n",
    "prec2, rec2, f_score2, sup2 = metrics.precision_recall_fscore_support(y_test, y_pred2,\n",
    "                                                          average='macro')\n",
    "acc2 = metrics.accuracy_score(y_test, y_pred2)\n",
    "\n",
    "# Print values\n",
    "print(\"Accuracy: {:.2f}\".format(acc2))\n",
    "print(\"Precision: {:.2f}\".format(prec2))\n",
    "print(\"Recall: {:.2f}\".format(rec2))\n",
    "print(\"F1 score: {:.2f}\".format(f_score2))"
   ]
  },
  {
   "cell_type": "code",
   "execution_count": 22,
   "metadata": {},
   "outputs": [
    {
     "name": "stdout",
     "output_type": "stream",
     "text": [
      "F1   Model\n",
      "---- -------------\n",
      "0.98 Random Forest\n",
      "0.98 Extra Trees\n",
      "1.00 Neural network\n",
      "0.98 Naive Bayes\n",
      "0.98 Decision tree\n",
      "\n",
      "\n",
      "And the winner is / winners are:\n",
      "\n",
      "    Neural network\n",
      "\n",
      "...with an F1 score of 1.00\n",
      "\n",
      "\n"
     ]
    },
    {
     "data": {
      "image/png": "[encoded data removed]",
      "text/plain": [
       "<Figure size 432x288 with 2 Axes>"
      ]
     },
     "metadata": {},
     "output_type": "display_data"
    },
    {
     "data": {
      "image/png": "[encoded data removed]",
      "text/plain": [
       "<Figure size 432x288 with 2 Axes>"
      ]
     },
     "metadata": {},
     "output_type": "display_data"
    },
    {
     "data": {
      "image/png": "[encoded data removed]",
      "text/plain": [
       "<Figure size 432x288 with 2 Axes>"
      ]
     },
     "metadata": {},
     "output_type": "display_data"
    },
    {
     "data": {
      "image/png": "[encoded data removed]",
      "text/plain": [
       "<Figure size 432x288 with 2 Axes>"
      ]
     },
     "metadata": {},
     "output_type": "display_data"
    },
    {
     "data": {
      "image/png": "[encoded data removed]",
      "text/plain": [
       "<Figure size 432x288 with 2 Axes>"
      ]
     },
     "metadata": {},
     "output_type": "display_data"
    }
   ],
   "source": [
    "# Let's find the best classifier from a bunch of different ones based on the F1 score\n",
    "\n",
    "# Build dictionary of classifiers\n",
    "clf_dict = {'Random Forest': RandomForestClassifier(n_estimators=100), \n",
    "            'Extra Trees': ExtraTreesClassifier(n_estimators=500),\n",
    "            'Neural network': MLPClassifier(max_iter=20000),\n",
    "            'Naive Bayes': GaussianNB(), \n",
    "            'Decision tree': tree.DecisionTreeClassifier()}\n",
    "\n",
    "f1_dict = dict()\n",
    "max_f1 = -1\n",
    "print('F1   Model\\n---- -------------')\n",
    "for clf_name, model in clf_dict.items():\n",
    "\n",
    "    # Train the model using the training sets\n",
    "    model.fit(X_train, y_train)\n",
    "\n",
    "    # Predict on the test set\n",
    "    y_pred = model.predict(X_test)\n",
    "    \n",
    "    # Get f1 score\n",
    "    prec, rec, f_score, sup = metrics.precision_recall_fscore_support(y_test, y_pred,\n",
    "                                                                      average='macro')\n",
    "    # Round to 2 d.p.\n",
    "    f_score = float('{:.2f}'.format(f_score))\n",
    "    \n",
    "    # Append to dictionary\n",
    "    f1_dict[clf_name] = f_score\n",
    "    \n",
    "    # Overwrite with max. value\n",
    "    if f_score > max_f1:\n",
    "        max_f1 = f_score\n",
    "    print('{:.2f} {}'.format(f_score, clf_name))\n",
    "    \n",
    "    # Make confusion matrix and plot\n",
    "    cnf_matrix = metrics.confusion_matrix(y_test, y_pred)\n",
    "    make_confusion_matrix(cnf_matrix, model, clf_name)\n",
    "\n",
    "# Outputting string in a nice way\n",
    "best_models = ''\n",
    "for clf_name, f in f1_dict.items():\n",
    "    if f == max_f1:\n",
    "        best_models += '    {}\\n'.format(clf_name)\n",
    "    \n",
    "print('\\n\\nAnd the winner is / winners are:\\n\\n{}\\n...with an F1 score of {:.2f}\\n\\n'.format(best_models, max_f1))\n"
   ]
  },
  {
   "cell_type": "code",
   "execution_count": null,
   "metadata": {},
   "outputs": [],
   "source": []
  }
 ],
 "metadata": {
  "kernelspec": {
   "display_name": "Python 3",
   "language": "python",
   "name": "python3"
  },
  "language_info": {
   "codemirror_mode": {
    "name": "ipython",
    "version": 3
   },
   "file_extension": ".py",
   "mimetype": "text/x-python",
   "name": "python",
   "nbconvert_exporter": "python",
   "pygments_lexer": "ipython3",
   "version": "3.7.1"
  }
 },
 "nbformat": 4,
 "nbformat_minor": 2
}
