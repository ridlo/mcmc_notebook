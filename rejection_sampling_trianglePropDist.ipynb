{
 "cells": [
  {
   "cell_type": "code",
   "execution_count": 1,
   "metadata": {
    "collapsed": true
   },
   "outputs": [],
   "source": [
    "import numpy as np\n",
    "import matplotlib.pyplot as plt\n",
    "from scipy.integrate import quad\n",
    "\n",
    "%matplotlib inline"
   ]
  },
  {
   "cell_type": "code",
   "execution_count": 2,
   "metadata": {
    "collapsed": true
   },
   "outputs": [],
   "source": [
    "def pdftarget(x, normed=1):\n",
    "    return np.exp(0.4*(x - 0.4)*(x - 0.4) - 0.08*x*x*x*x)/normed"
   ]
  },
  {
   "cell_type": "code",
   "execution_count": 3,
   "metadata": {
    "collapsed": true
   },
   "outputs": [],
   "source": [
    "def propos(x, xmin, xmax, xhigh, yhigh):\n",
    "    m1 = yhigh/(xhigh - xmin)\n",
    "    c1 = -xmin*m1\n",
    "    m2 = -yhigh/(xmax - xhigh)\n",
    "    c2 = -xmax*m2\n",
    "    y = np.where(x < xhigh, m1*x + c1, m2*x + c2)\n",
    "    return y"
   ]
  },
  {
   "cell_type": "code",
   "execution_count": 4,
   "metadata": {
    "collapsed": true
   },
   "outputs": [],
   "source": [
    "def sampling_isosceles(nsamples, normalize, xmin, xmax, xhigh, yhigh):   \n",
    "    # start sampling\n",
    "    u = np.random.random(nsamples)\n",
    "    v = np.random.random(nsamples)\n",
    "    low = 0.5*xmin\n",
    "    width = 0.5*(xmax-xmin)\n",
    "    x = low + width*u\n",
    "    y = low + width*v\n",
    "    xsample = x + y # \"Fourier convolution\" to make an isosceles triangle\n",
    "    target_dist = pdftarget(xsample, normed=normalize)\n",
    "    ysample = propos(xsample, xmin, xmax, xhigh, yhigh)*np.random.random(nsamples)\n",
    "    \n",
    "    accept = ysample <= target_dist\n",
    "    \n",
    "    return xsample, ysample, accept"
   ]
  },
  {
   "cell_type": "code",
   "execution_count": 5,
   "metadata": {},
   "outputs": [
    {
     "name": "stdout",
     "output_type": "stream",
     "text": [
      "Accepting rate:  0.302\n"
     ]
    },
    {
     "data": {
      "image/png": "[encoded data removed]",
      "text/plain": [
       "<matplotlib.figure.Figure at 0x7f1a4ff76c50>"
      ]
     },
     "metadata": {},
     "output_type": "display_data"
    }
   ],
   "source": [
    "xmin, xmax = -5, 5\n",
    "I = quad(pdftarget, -100, 100)\n",
    "nsamples = 1000\n",
    "xhigh = 0.0\n",
    "yhigh = 0.63\n",
    "xsample, ysample, accept = sampling_isosceles(nsamples, I[0], xmin, xmax, xhigh, yhigh)\n",
    "\n",
    "xaccept = xsample[accept]\n",
    "print \"Accepting rate: \", float(len(xaccept))/len(xsample)\n",
    "\n",
    "x = np.linspace(xmin, xmax, 1000)\n",
    "y_target = pdftarget(x, normed=I[0])\n",
    "y_propos = propos(x, xmin, xmax, xhigh, yhigh)\n",
    "plt.plot(x, y_target)\n",
    "plt.plot(x, y_propos)\n",
    "plt.hist(xaccept, normed=True, bins=50, histtype=\"stepfilled\", color=\"red\", alpha=0.5, linewidth=0)\n",
    "plt.xlim([xmin, xmax])\n",
    "plt.show()"
   ]
  },
  {
   "cell_type": "markdown",
   "metadata": {},
   "source": [
    "### Let's try to make it more efficient\n",
    "\n",
    "NOTE: efficiency in accepting rate! not necessarily in computing time (need more testing)"
   ]
  },
  {
   "cell_type": "code",
   "execution_count": 6,
   "metadata": {
    "collapsed": true
   },
   "outputs": [],
   "source": [
    "def sampling_piecewise(nsamples, normalize, xmin, xmax, xhigh, yhigh):   \n",
    "    l1 = 0.5*(xhigh-xmin)*yhigh # left triangle area\n",
    "    l2 = 0.5*(xmax-xhigh)*yhigh # right triangle area\n",
    "    l = l1+l2 # total area\n",
    "    \n",
    "    # start sampling\n",
    "    # piecewise proposal distribution\n",
    "    xsample1 = xmin + (xhigh-xmin)*np.sqrt(np.random.random(int(nsamples*l1/l))) # left triangle\n",
    "    xsample2 = xmax - (xmax-xhigh)*np.sqrt(np.random.random(int(nsamples*l2/l))) # right triangle\n",
    "    xsample = np.append(xsample1, xsample2)\n",
    "    np.random.shuffle(xsample) # shuffle this array (for animation purpose)\n",
    "    \n",
    "    n = len(xsample) # may change a little\n",
    "    target_dist = pdftarget(xsample, normed=normalize)\n",
    "    ysample = propos(xsample, xmin, xmax, xhigh, yhigh)*np.random.random(n)\n",
    "    \n",
    "    accept = ysample <= target_dist\n",
    "    \n",
    "    return xsample, ysample, accept, l, n"
   ]
  },
  {
   "cell_type": "code",
   "execution_count": 7,
   "metadata": {},
   "outputs": [
    {
     "name": "stdout",
     "output_type": "stream",
     "text": [
      "-1.75675675676 0.382082506929\n"
     ]
    }
   ],
   "source": [
    "xmin, xmax = -5, 5\n",
    "I = quad(pdftarget, -100, 100)\n",
    "nsamples = 1000\n",
    "\n",
    "x = np.linspace(xmin, xmax, 1000)\n",
    "y_target = pdftarget(x, normed=I[0])\n",
    "high = np.argmax(y_target)\n",
    "xhigh = x[high]\n",
    "yhigh = y_target[high]\n",
    "print xhigh, yhigh"
   ]
  },
  {
   "cell_type": "code",
   "execution_count": 8,
   "metadata": {},
   "outputs": [
    {
     "name": "stdout",
     "output_type": "stream",
     "text": [
      "Accepting rate:  0.518518518519\n"
     ]
    },
    {
     "data": {
      "image/png": "[encoded data removed]",
      "text/plain": [
       "<matplotlib.figure.Figure at 0x7f1a211d8350>"
      ]
     },
     "metadata": {},
     "output_type": "display_data"
    }
   ],
   "source": [
    "xsample, ysample, accept, l, n = sampling_piecewise(nsamples, I[0], xmin, xmax, xhigh, 1.05*yhigh)\n",
    "xaccept = xsample[accept]\n",
    "print \"Accepting rate: \", float(len(xaccept))/len(xsample)\n",
    "\n",
    "y_propos = propos(x, xmin, xmax, xhigh, 1.05*yhigh)\n",
    "plt.plot(x, y_target)\n",
    "plt.plot(x, y_propos)\n",
    "plt.hist(xaccept, normed=True, bins=50, histtype=\"stepfilled\", color=\"red\", alpha=0.5, linewidth=0)\n",
    "plt.xlim([xmin, xmax])\n",
    "plt.show()"
   ]
  },
  {
   "cell_type": "markdown",
   "metadata": {
    "collapsed": true
   },
   "source": [
    "### Make an animation"
   ]
  },
  {
   "cell_type": "code",
   "execution_count": 9,
   "metadata": {},
   "outputs": [],
   "source": [
    "def plot_samples(xsample, ysample, accept, normalize, xhigh, yhigh, xmin=-5, xmax=5, nbins=50, write=False, filename='plot_rejection_sampling.png', trace=False):\n",
    "    nsamples = len(xsample)\n",
    "    ofile = '/home/ridlo/project/stats/rejection_sampling/'+filename\n",
    "    \n",
    "    xaccept = xsample[accept]\n",
    "    n_accept = len(xaccept)\n",
    "    \n",
    "    fig = plt.figure()\n",
    "    ax = fig.add_subplot(111)\n",
    "    ax.set_xlim(xmin, xmax)\n",
    "    \n",
    "    x = np.linspace(xmin, xmax, 1000) # draw target dist line\n",
    "    target_dist = pdftarget(x, normed=normalize)\n",
    "    propos_dist = propos(x, xmin, xmax, xhigh, yhigh)\n",
    "    \n",
    "    ymax = 1.1*np.amax(propos_dist)\n",
    "    ax.set_ylim(0, ymax)\n",
    "    \n",
    "    ax.plot(x, target_dist, 'k')\n",
    "    ax.plot(x, propos_dist, 'g')\n",
    "    \n",
    "    if nsamples > 0:\n",
    "        if n_accept > 0:\n",
    "            ax.hist(xaccept, normed=True, bins=nbins, histtype=\"stepfilled\", color=\"blue\", alpha=0.5, linewidth=0)\n",
    "    \n",
    "            if trace:\n",
    "                sample_x = xsample[-1] # last sample \n",
    "                sample_y = ysample[-1]\n",
    "                sample_accept = accept[-1]\n",
    "                ax.axvline(x=sample_x, ymin=0, ymax=(sample_y)/(ymax), c='k')\n",
    "                ax.axhline(y=sample_y, xmin=xmin, xmax=(sample_x-xmin)/(xmax-xmin), c='k')\n",
    "                if sample_accept:\n",
    "                    ax.plot(sample_x, sample_y, 'k.')\n",
    "                else:\n",
    "                    ax.plot(sample_x, sample_y, 'r.')\n",
    "\n",
    "            rate_accept = float(n_accept)/float(nsamples)\n",
    "            text = r'$n_{sample} = '+'{0:d}$'.format(nsamples)+'\\n'\n",
    "            text += r'$r_{accept} = '+'{0:0.2f}$'.format(rate_accept)\n",
    "            ax.annotate(text, xy=(0.7, 0.97), xycoords='axes fraction', ha='left', va='top') \n",
    "    \n",
    "    if write:\n",
    "        plt.savefig(ofile, bbox_inches='tight', dpi=400); plt.close()\n",
    "    else:\n",
    "        plt.show(); plt.close()"
   ]
  },
  {
   "cell_type": "code",
   "execution_count": 10,
   "metadata": {},
   "outputs": [
    {
     "data": {
      "image/png": "[encoded data removed]",
      "text/plain": [
       "<matplotlib.figure.Figure at 0x7f1a1f30ca10>"
      ]
     },
     "metadata": {},
     "output_type": "display_data"
    }
   ],
   "source": [
    "# test\n",
    "xmin, xmax = -5, 5\n",
    "I = quad(pdftarget, -100, 100)\n",
    "nsamp = 1000\n",
    "\n",
    "x = np.linspace(xmin, xmax, 1000)\n",
    "y_target = pdftarget(x, normed=I[0])\n",
    "high = np.argmax(y_target)\n",
    "xhigh = x[high]\n",
    "yhigh = y_target[high]\n",
    "\n",
    "xsample, ysample, accept, l, n = sampling_piecewise(nsamples, I[0], xmin, xmax, xhigh, 1.05*yhigh)\n",
    "plot_samples(xsample, ysample, accept, I[0], xhigh, 1.05*yhigh, trace=True)"
   ]
  },
  {
   "cell_type": "code",
   "execution_count": 11,
   "metadata": {},
   "outputs": [
    {
     "name": "stdout",
     "output_type": "stream",
     "text": [
      ". . . . . . . . . . . . . . . . . . . . . . . . . . . . . . . . . . . . . . . . . . . . . . . . . . . . . . . . . . . . . . . . . . . . . . . . . . . . . . . . . . . . . . . . . . . . . . . . . . .\n"
     ]
    }
   ],
   "source": [
    "# animation plot\n",
    "# make an animation\n",
    "divisor = 10\n",
    "for i in range(n):\n",
    "    plot_samples(xsample[0:i], \n",
    "                 ysample[0:i], \n",
    "                 accept[0:i], \n",
    "                 I[0], \n",
    "                 xhigh, \n",
    "                 1.05*yhigh,\n",
    "                 write=True,\n",
    "                 filename='plotsample_nsamp_{0:04d}.png'.format(i),\n",
    "                 trace=True)\n",
    "    \n",
    "    if (((i+1) % divisor) == 0):\n",
    "        print \".\","
   ]
  },
  {
   "cell_type": "code",
   "execution_count": 12,
   "metadata": {
    "collapsed": true
   },
   "outputs": [],
   "source": [
    "from IPython.display import YouTubeVideo"
   ]
  },
  {
   "cell_type": "code",
   "execution_count": 14,
   "metadata": {},
   "outputs": [
    {
     "data": {
      "text/html": [
       "\n",
       "        <iframe\n",
       "            width=\"400\"\n",
       "            height=\"300\"\n",
       "            src=\"https://www.youtube.com/embed/Pk2pSMDIXww\"\n",
       "            frameborder=\"0\"\n",
       "            allowfullscreen\n",
       "        ></iframe>\n",
       "        "
      ],
      "text/plain": [
       "<IPython.lib.display.YouTubeVideo at 0x7f1a1f30c190>"
      ]
     },
     "execution_count": 14,
     "metadata": {},
     "output_type": "execute_result"
    }
   ],
   "source": [
    "YouTubeVideo(\"Pk2pSMDIXww\")"
   ]
  },
  {
   "cell_type": "markdown",
   "metadata": {},
   "source": [
    "### References\n",
    "\n",
    "- SEAYAC Workshop, *MC methods in astronomy*, Tri L. Astraatmadja (MPIA Heidelberg)\n",
    "    Krabi, 4 December 2015"
   ]
  },
  {
   "cell_type": "code",
   "execution_count": null,
   "metadata": {
    "collapsed": true
   },
   "outputs": [],
   "source": []
  }
 ],
 "metadata": {
  "kernelspec": {
   "display_name": "Python 2",
   "language": "python",
   "name": "python2"
  },
  "language_info": {
   "codemirror_mode": {
    "name": "ipython",
    "version": 2
   },
   "file_extension": ".py",
   "mimetype": "text/x-python",
   "name": "python",
   "nbconvert_exporter": "python",
   "pygments_lexer": "ipython2",
   "version": "2.7.14"
  }
 },
 "nbformat": 4,
 "nbformat_minor": 1
}
