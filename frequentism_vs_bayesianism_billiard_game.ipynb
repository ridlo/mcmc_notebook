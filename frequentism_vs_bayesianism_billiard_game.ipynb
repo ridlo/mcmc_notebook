{
 "cells": [
  {
   "cell_type": "markdown",
   "metadata": {},
   "source": [
    "# Frequentism vs Bayesianism:  Bayesian Billiard Game"
   ]
  },
  {
   "cell_type": "markdown",
   "metadata": {},
   "source": [
    "Alice and Bob enter a room. Behind a curtain there is a billiard table, which they cannot see, but their friend Carol can. Carol rolls a ball down the table, and marks where it lands. Once this mark is in place, Carol begins rolling new balls down the table. If the ball lands to the left of the mark, Alice gets a point; if it lands to the right of the mark, Bob gets a point. We can assume for the sake of example that Carol's rolls are unbiased: that is, the balls have an equal chance of ending up anywhere on the table. The first person to reach <b>six points</b> wins the game.\n",
    "\n",
    "Here the location of the mark (determined by the first roll) can be considered a nuisance parameter: it is unknown, and not of immediate interest, but it clearly must be accounted for when predicting the outcome of subsequent rolls. If the first roll settles far to the right, then subsequent rolls will favor Alice. If it settles far to the left, Bob will be favored instead.\n",
    "\n",
    "Given this setup, here is the question we ask of ourselves:\n",
    ">In a particular game, after eight rolls, Alice has five points and Bob has three points. What is the probability that Bob will go on to win the game?\n"
   ]
  },
  {
   "cell_type": "markdown",
   "metadata": {},
   "source": [
    "### A Naïve Frequentist Approach\n",
    "\n",
    "To determine the result, we need an intermediate estimate of where the marker sits\n",
    "\n",
    "$\\hat{p} = 5/8$\n",
    "\n",
    "$P(B) = (1 - \\hat{p})^3$"
   ]
  },
  {
   "cell_type": "code",
   "execution_count": 1,
   "metadata": {
    "collapsed": false
   },
   "outputs": [
    {
     "name": "stdout",
     "output_type": "stream",
     "text": [
      "Naive frequentist, Prob of B winning: 0.0527\n",
      "Odds against Bob winning: 18 to 1\n"
     ]
    }
   ],
   "source": [
    "p_hat = 5/8.\n",
    "freq_prob_B = (1 - p_hat)**3\n",
    "print(\"Naive frequentist, Prob of B winning: {0:.04f}\".format(freq_prob_B))\n",
    "print(\"Odds against Bob winning: {0:.0f} to 1\".format((1. - freq_prob_B) / freq_prob_B))"
   ]
  },
  {
   "cell_type": "markdown",
   "metadata": {},
   "source": [
    "### Bayesian approach\n",
    "\n",
    "$B$ = Bob wins\n",
    "\n",
    "$D$ = Data i.e. (5, 3)\n",
    "\n",
    "$p$ = unknown probability that a ball lands on Alice's side during the current game\n",
    "\n",
    "We want to compute P(B|D)\n",
    "\n",
    "The general Bayesian method of treating nuisance parameters is <b>marginalization</b>, or integrating the joint probability over the entire range of the nuisance parameter. In this case, that means that we will first calculate the joint distribution \n",
    "\n",
    "$P(B, p | D)$\n",
    "\n",
    "and then *marginalize* over $p$ using the following identity: \n",
    "\n",
    "$P(B | D) = \\int_{-\\infty}^{+\\infty} P(B, p | D)dp$\n",
    "\n",
    "This identity follows from the definition of conditional probability, and the law of total probability: that is, it is a fundamental consequence of probability axioms and will always be true. Even a frequentist would recognize this; they would simply disagree with our interpretation of $P(p)$ as being a measure of uncertainty of our own knowledge.\n",
    "\n",
    "$P(B | D) = \\int P(B, p| D) P(p|D) dp$\n",
    "\n",
    "Bayes rule,\n",
    "\n",
    "$P(B | D) = \\int P(B, p| D) \\frac{P(D|p)P(p)}{P(D)} dp $\n",
    "\n",
    "$P(D)$ = constant, normalization factor$\n",
    "\n",
    "$P(B | D) = \\frac{\\int P(B, p| D) P(D|p)P(p) dp}{\\int P(D|p)P(p) dp} $\n",
    "\n",
    "Likelihood Bob wins: $P(B, p| D) = (1 - p)^3$\n",
    "\n",
    "From Binomial distribution: $P(D|p) \\propto p^5(1-p)^3$\n",
    "\n",
    "$P(p)$: this is our prior on the probability $p$. By the problem definition, we can assume that $p$ is evenly drawn between 0 and 1. That is, $P(p) \\propto 1$, and the integrals range from 0 to 1.\n",
    "\n",
    "$P(B|D) = \\frac{\\int_0^1 (1-p)^6 p^5 dp}{\\int_0^1 (1-p)^3 p^5 dp}$\n",
    "\n",
    "Beta function: \n",
    "\n",
    "$\\beta(n,m) = \\int_0^1 (1-p)^{n-1} p^{m-1} dp $"
   ]
  },
  {
   "cell_type": "code",
   "execution_count": 2,
   "metadata": {
    "collapsed": false
   },
   "outputs": [
    {
     "name": "stdout",
     "output_type": "stream",
     "text": [
      "P(B|D) = 0.0909\n"
     ]
    }
   ],
   "source": [
    "from scipy.special import beta\n",
    "bayes_prob_B = beta(7, 6) / beta(4, 6)\n",
    "\n",
    "print(\"P(B|D) = {0:.4f}\".format(bayes_prob_B))"
   ]
  },
  {
   "cell_type": "markdown",
   "metadata": {},
   "source": [
    "### A Brute Force/Monte Carlo Approach"
   ]
  },
  {
   "cell_type": "code",
   "execution_count": 3,
   "metadata": {
    "collapsed": false
   },
   "outputs": [
    {
     "name": "stdout",
     "output_type": "stream",
     "text": [
      "(Sanity check passed)\n",
      "Number of selected games: 11145\n",
      "Number of these games Bob won: 1015\n",
      "Monte Carlo Probability of Bob winning: 0.0911\n",
      "MC Odds against Bob winning: 10 to 1\n"
     ]
    }
   ],
   "source": [
    "import numpy as np\n",
    "np.random.seed(88)\n",
    "\n",
    "# play 100000 games with randomly-drawn p, between 0 and 1\n",
    "N = 100000\n",
    "p = np.random.random(N)\n",
    "\n",
    "# each game needs at most 11 rolls for one player to reach 6 wins\n",
    "rolls = np.random.random((11, N))\n",
    "\n",
    "# count the cumulative wins for Alice and Bob at each roll\n",
    "Alice_count = np.cumsum(rolls < p, 0)\n",
    "Bob_count = np.cumsum(rolls >= p, 0)\n",
    "\n",
    "# sanity check: total number of wins should equal number of rolls\n",
    "total_wins = Alice_count + Bob_count\n",
    "assert np.all(total_wins.T == np.arange(1, 12))\n",
    "print(\"(Sanity check passed)\")\n",
    "\n",
    "selected_games = Bob_count[7] == 3 # or Alice_count[7] == 5\n",
    "print(\"Number of selected games: {0}\".format(selected_games.sum()))\n",
    "\n",
    "# truncate our results to consider only these games\n",
    "Alice_count = Alice_count[:, selected_games]\n",
    "Bob_count = Bob_count[:, selected_games]\n",
    "\n",
    "# determine which of these games Bob won.\n",
    "# to win, he must reach six wins after 11 rolls.\n",
    "bob_won = np.sum(Bob_count[10] == 6)\n",
    "print(\"Number of these games Bob won: {0}\".format(bob_won.sum()))\n",
    "\n",
    "# compute the probability\n",
    "mc_prob = bob_won.sum() * 1. / selected_games.sum()\n",
    "print(\"Monte Carlo Probability of Bob winning: {0:.4f}\".format(mc_prob))\n",
    "print(\"MC Odds against Bob winning: {0:.0f} to 1\".format((1. - mc_prob) / mc_prob))"
   ]
  },
  {
   "cell_type": "code",
   "execution_count": 4,
   "metadata": {
    "collapsed": false
   },
   "outputs": [],
   "source": [
    "# generate games\n",
    "N = 100000\n",
    "p = np.random.random(N)\n",
    "rolls = np.zeros((N, 11))\n",
    "Alice_count = np.zeros((N, 11))\n",
    "Bob_count = np.zeros((N, 11))\n",
    "\n",
    "for play in range(N):\n",
    "    rolls[play, :] = np.random.random(11)\n",
    "    Alice_count[play, :] = np.cumsum(rolls[play, :] < p[play])\n",
    "    Bob_count[play, :] = np.cumsum(rolls[play, :] >= p[play])"
   ]
  },
  {
   "cell_type": "code",
   "execution_count": 5,
   "metadata": {
    "collapsed": false
   },
   "outputs": [
    {
     "name": "stdout",
     "output_type": "stream",
     "text": [
      "Selected games:  11022\n"
     ]
    }
   ],
   "source": [
    "# select game, at eight game -> A:B = 5:3\n",
    "selected_games = []\n",
    "for play in range(N):\n",
    "    if Bob_count[play, 7] == 3:\n",
    "        selected_games.append([p[play], Bob_count[play]])\n",
    "\n",
    "n_select = len(selected_games)\n",
    "print \"Selected games: \", n_select"
   ]
  },
  {
   "cell_type": "code",
   "execution_count": 6,
   "metadata": {
    "collapsed": false
   },
   "outputs": [],
   "source": [
    "Bob_win = []\n",
    "for i, game in enumerate(selected_games):\n",
    "    if game[1][10] == 6:\n",
    "        Bob_win.append(game)"
   ]
  },
  {
   "cell_type": "code",
   "execution_count": 7,
   "metadata": {
    "collapsed": false
   },
   "outputs": [
    {
     "name": "stdout",
     "output_type": "stream",
     "text": [
      "Monte Carlo Probability of Bob winning: 0.0915441843586\n"
     ]
    }
   ],
   "source": [
    "print \"Monte Carlo Probability of Bob winning:\", float(len(Bob_win))/n_select"
   ]
  },
  {
   "cell_type": "code",
   "execution_count": 8,
   "metadata": {
    "collapsed": false
   },
   "outputs": [],
   "source": [
    "p_select  = []\n",
    "for game in selected_games:\n",
    "    p_select.append(game[0])"
   ]
  },
  {
   "cell_type": "code",
   "execution_count": 9,
   "metadata": {
    "collapsed": false
   },
   "outputs": [],
   "source": [
    "import matplotlib.pyplot as plt\n",
    "%matplotlib inline"
   ]
  },
  {
   "cell_type": "code",
   "execution_count": 10,
   "metadata": {
    "collapsed": false
   },
   "outputs": [
    {
     "data": {
      "image/png": "[encoded data removed]",
      "text/plain": [
       "<matplotlib.figure.Figure at 0x7f5f7c048450>"
      ]
     },
     "metadata": {},
     "output_type": "display_data"
    }
   ],
   "source": [
    "plt.hist(p_select, normed=1, bins=50, histtype=\"stepfilled\", alpha=0.5, lw=0)\n",
    "plt.xlabel(r\"$p$\")\n",
    "plt.show()"
   ]
  },
  {
   "cell_type": "code",
   "execution_count": null,
   "metadata": {
    "collapsed": true
   },
   "outputs": [],
   "source": []
  }
 ],
 "metadata": {
  "kernelspec": {
   "display_name": "Python 2",
   "language": "python",
   "name": "python2"
  },
  "language_info": {
   "codemirror_mode": {
    "name": "ipython",
    "version": 2
   },
   "file_extension": ".py",
   "mimetype": "text/x-python",
   "name": "python",
   "nbconvert_exporter": "python",
   "pygments_lexer": "ipython2",
   "version": "2.7.11"
  }
 },
 "nbformat": 4,
 "nbformat_minor": 0
}
